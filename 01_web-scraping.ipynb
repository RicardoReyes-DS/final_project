{
 "cells": [
  {
   "cell_type": "markdown",
   "metadata": {},
   "source": [
    "# Web-Scraping Process\n",
    "\n",
    "First part for the project was to obtain the music catalogue reference. "
   ]
  },
  {
   "cell_type": "code",
   "execution_count": null,
   "metadata": {},
   "outputs": [],
   "source": [
    "#Libraries\n",
    "\n",
    "import requests\n",
    "import pandas as pd\n",
    "import numpy as np\n",
    "from bs4 import BeautifulSoup\n",
    "\n",
    "import regex as re\n",
    "\n",
    "import time\n",
    "\n",
    "import matplotlib.pyplot as plt\n",
    "\n",
    "import itertools\n",
    "\n",
    "# Get Genre Tags, Number of tracks\n",
    "\n",
    "url_pattern = 'https://nodata.tv/blog/page/%s'\n",
    "\n",
    "# List of blog pages\n",
    "\n",
    "author_test=[]\n",
    "album_test=[]\n",
    "year_test=[]\n",
    "link_test=[]\n",
    "for item in range(1, 10):\n",
    "    time.sleep(2)\n",
    "    url = url_pattern%item\n",
    "    html = requests.get(url)\n",
    "    html = html.content\n",
    "    soup = BeautifulSoup(html, 'lxml')\n",
    "    # Post Title\n",
    "    post_title = soup.find_all('a', {'class':'title'})\n",
    "    post_title_clean = [title.text.strip() for title in post_title]\n",
    "    # Post link\n",
    "    link = [post_title[i]['href'] for i in range(len(post_title))]\n",
    "    #print(link)\n",
    "    link_test.append(link)\n",
    "    # Author\n",
    "    author = [re.findall('.+(?=\\/)', item)[0] for item in post_title_clean]\n",
    "    author_test.append(author)\n",
    "    #Album\n",
    "    album = [re.findall('(?<=\\/).+(?=\\[)', item)[0] for item in post_title_clean]\n",
    "    album_test.append(album)\n",
    "    # Year\n",
    "    year = [re.findall('(?<=\\[)\\d+', item) for item in post_title_clean]\n",
    "    year_test.append(year)\n",
    "    # Genre list\n",
    "    #genre = soup.find_all('a', {'rel':'category tag'})\n",
    "    #genre_clean = [genre.text.strip() for genre in genre]\n",
    "    # Number of tracks\n",
    "    #tracks = soup.find_all(\"ol\")\n",
    "    #tracks_clean = [track.text.strip().split(\"\\n\") for track in tracks]\n",
    "    #print(tracks_clean)\n",
    "    #track_number = len(tracks_clean)\n",
    "    #genre_test.append(genre_clean)\n",
    "    #track_test.append(track_number)\n",
    "\n",
    "\n",
    "# Taking lists out of lists by page    \n",
    "# Reference: https://stackoverflow.com/questions/716477/join-list-of-lists-in-python\n",
    "\n",
    "author = (list(itertools.chain.from_iterable(author_test)))\n",
    "album = (list(itertools.chain.from_iterable(album_test)))\n",
    "year = (list(itertools.chain.from_iterable(year_test)))\n",
    "link = (list(itertools.chain.from_iterable(link_test)))\n",
    "\n",
    "\n",
    "genre_test = []\n",
    "track_test = []\n",
    "for item in link:\n",
    "    time.sleep(2)\n",
    "    url = item\n",
    "    html = requests.get(url)\n",
    "    html = html.content\n",
    "    soup = BeautifulSoup(html, 'lxml')\n",
    "    # Genre list\n",
    "    genre = soup.find_all('a', {'rel':'category tag'})\n",
    "    genre_clean = [genre.text.strip() for genre in genre]\n",
    "    genre_test.append(genre_clean)\n",
    "    # Number of tracks\n",
    "    tracks = soup.find_all(\"ol\")\n",
    "    tracks_clean = [track.text.strip().split(\"\\n\") for track in tracks]\n",
    "    #print(tracks_clean)\n",
    "    track_number = len(tracks_clean[0])\n",
    "    track_test.append(track_number)\n",
    "\n",
    "# Post_Id\n",
    "post_id = [re.findall('(?<=.tv/)\\d+', item)[0] for item in link]\n",
    "\n",
    "df_test = pd.DataFrame(list(zip(post_id, author, album, year, genre_test, track_test, link)),\n",
    "                  columns = ['Post_ID', 'Author', 'Album', 'Year', 'Genre', 'No. Tracks', 'Link'], index = None)\n",
    "    \n",
    "\n",
    "\n",
    "df_test[\"Year\"] = df_test[\"Year\"].explode()\n",
    "\n",
    "print(df_test.info())"
   ]
  },
  {
   "cell_type": "code",
   "execution_count": null,
   "metadata": {},
   "outputs": [],
   "source": [
    "# df_test.to_csv('df_basic_info.txt', index=False)"
   ]
  },
  {
   "cell_type": "code",
   "execution_count": null,
   "metadata": {},
   "outputs": [],
   "source": [
    "df_genres = df_test[['Post_ID', 'Genre']]"
   ]
  },
  {
   "cell_type": "code",
   "execution_count": null,
   "metadata": {},
   "outputs": [],
   "source": [
    "genre_dict = {}\n",
    "for i in df_genres['Genre']:\n",
    "    for j in i:\n",
    "        if j not in genre_dict:\n",
    "            genre_dict[j]=1\n",
    "        else:\n",
    "            genre_dict[j]+=1"
   ]
  },
  {
   "cell_type": "code",
   "execution_count": null,
   "metadata": {},
   "outputs": [],
   "source": [
    "genre_freq = pd.DataFrame.from_dict(genre_dict, orient='index', columns=['Frequency'])\n",
    "genre_freq = genre_freq.reset_index()\n",
    "genre_freq = genre_freq.rename(columns={'index':'Genre'})\n",
    "# genre_freq"
   ]
  },
  {
   "cell_type": "code",
   "execution_count": null,
   "metadata": {},
   "outputs": [],
   "source": [
    "# Reference : https://www.python-graph-gallery.com/circular-barplot-basic\n",
    "\n",
    "import numpy as np\n",
    "\n",
    "# fig size\n",
    "plt.figure(figsize=(30,10))\n",
    "\n",
    "# plot polar axis\n",
    "ax = plt.subplot(111, polar=True)\n",
    "\n",
    "# remove grid\n",
    "plt.axis('off')\n",
    "\n",
    "# coordinate limits \n",
    "upperLimit = 100\n",
    "lowerLimit = 20\n",
    "\n",
    "# Compute max and min\n",
    "max_ = genre_freq['Frequency'].max()\n",
    "\n",
    "# \n",
    "#\n",
    "#\n",
    "\n",
    "slope = (max_ - lowerLimit) / max_\n",
    "heights = slope * genre_freq.Frequency + lowerLimit\n",
    "\n",
    "width = 2*np.pi / len(genre_freq.index)\n",
    "\n",
    "indexes = list(range(1, len(genre_freq.index)+1))\n",
    "\n",
    "angles = [element * width for element in indexes]\n",
    "angles\n",
    "\n",
    "# Draw bars\n",
    "bars = ax.bar(\n",
    "    x=angles, \n",
    "    height=heights, \n",
    "    width=width, \n",
    "    bottom=lowerLimit,\n",
    "    linewidth=2, \n",
    "    edgecolor=\"white\",\n",
    "    color=\"b\")\n",
    "\n",
    "labelPadding = 4\n",
    "\n",
    "# Add labels\n",
    "for bar, angle, height, label in zip(bars,angles, heights, genre_freq['Genre']):\n",
    "\n",
    "    # Labels are rotated. Rotation must be specified in degrees :(\n",
    "    rotation = np.rad2deg(angle)\n",
    "\n",
    "    # Flip some labels upside down\n",
    "    alignment = \"\"\n",
    "    if angle >= np.pi/2 and angle < 3*np.pi/2:\n",
    "        alignment = \"right\"\n",
    "        rotation = rotation + 180\n",
    "    else: \n",
    "        alignment = \"left\"\n",
    "\n",
    "    # Finally add the labels\n",
    "    ax.text(\n",
    "        x=angle, \n",
    "        y=lowerLimit + bar.get_height() + labelPadding, \n",
    "        s=label, \n",
    "        ha=alignment, \n",
    "        va='center', \n",
    "        rotation=rotation, \n",
    "        rotation_mode=\"anchor\",\n",
    "        fontsize=10)\n",
    "    \n",
    "plt.savefig('test01.jpg')    "
   ]
  },
  {
   "cell_type": "code",
   "execution_count": null,
   "metadata": {},
   "outputs": [],
   "source": [
    " # df_genres.to_csv('df_genres.txt', index=False)"
   ]
  },
  {
   "cell_type": "code",
   "execution_count": null,
   "metadata": {},
   "outputs": [],
   "source": [
    "spotify_artists = df_test['Author']"
   ]
  },
  {
   "cell_type": "markdown",
   "metadata": {},
   "source": [
    "# Linking scraped data with Spotify's API\n",
    "\n",
    "The artist were located by name to obtain ID, Followers, Popularity Index"
   ]
  },
  {
   "cell_type": "code",
   "execution_count": null,
   "metadata": {},
   "outputs": [],
   "source": [
    "import requests\n",
    "import base64\n",
    "from urllib.parse import urlencode\n",
    "\n",
    "\n",
    "# Credentials MUST CHANGE BEFORE UPLOADING!\n",
    "client_id = \"<client ID>\"\n",
    "client_secret = \"<client secret>\"\n",
    "\n",
    "# Formating credentials for \n",
    "dev_cred = f\"{client_id}:{client_secret}\"\n",
    "\n",
    "dev_cred_b64 = base64.b64encode(dev_cred.encode())\n",
    "\n",
    "token_url = \"https://accounts.spotify.com/api/token\"\n",
    "\n",
    "method = \"POST\"\n",
    "\n",
    "datos_token = {\"grant_type\":\"client_credentials\"}\n",
    "\n",
    "token_header = {\"Authorization\": f'Basic {dev_cred_b64.decode()}'}\n",
    "\n",
    "request = requests.post(token_url, data = datos_token, headers = token_header)\n",
    "\n",
    "datos = request.json()\n",
    "\n",
    "authorization = {\"Authorization\":f\"Bearer {datos['access_token']}\"}\n",
    "\n",
    "test_df= []\n",
    "\n",
    "for item in spotify_artists:\n",
    "\n",
    "    query = urlencode({\"q\":item,\"type\":\"artist\"})\n",
    "\n",
    "    endpoint = 'https://api.spotify.com/v1/search'\n",
    "\n",
    "    url_solicitud = f\"{endpoint}?{query}\"\n",
    "\n",
    "    busca = requests.get(url_solicitud, headers = authorization)\n",
    "    \n",
    "    test_df.append(busca)\n",
    "    \n",
    "test_df = [item.json() for item in test_df]\n",
    "\n",
    "artist_df = pd.json_normalize(test_df)"
   ]
  },
  {
   "cell_type": "code",
   "execution_count": null,
   "metadata": {},
   "outputs": [],
   "source": [
    "machote = [artist_df['artists.items'][i] for i in range(0, len(spotify_artists))]"
   ]
  },
  {
   "cell_type": "code",
   "execution_count": null,
   "metadata": {},
   "outputs": [],
   "source": [
    "machote = (list(itertools.chain.from_iterable(machote)))"
   ]
  },
  {
   "cell_type": "code",
   "execution_count": null,
   "metadata": {},
   "outputs": [],
   "source": [
    "machote = pd.json_normalize(machote)"
   ]
  },
  {
   "cell_type": "code",
   "execution_count": null,
   "metadata": {},
   "outputs": [],
   "source": [
    "machote.info()"
   ]
  },
  {
   "cell_type": "code",
   "execution_count": null,
   "metadata": {},
   "outputs": [],
   "source": [
    "df_test['Author'] = [i.strip() for i in df_test['Author']]"
   ]
  },
  {
   "cell_type": "code",
   "execution_count": null,
   "metadata": {},
   "outputs": [],
   "source": [
    "authors_test = []\n",
    "\n",
    "for item in df_test['Author']:\n",
    "    if item in set(machote['name']):\n",
    "        authors_test.append(item)"
   ]
  },
  {
   "cell_type": "code",
   "execution_count": null,
   "metadata": {},
   "outputs": [],
   "source": [
    "boolean_series = machote['name'].isin(authors_test)"
   ]
  },
  {
   "cell_type": "code",
   "execution_count": null,
   "metadata": {},
   "outputs": [],
   "source": [
    "filtered_machote = machote[boolean_series]"
   ]
  },
  {
   "cell_type": "code",
   "execution_count": null,
   "metadata": {},
   "outputs": [],
   "source": [
    "# df_genres.to_csv('df_genres.txt', index=False)\n",
    "\n",
    "# filtered_machote['id'].to_csv('id_test.csv', index=False)"
   ]
  },
  {
   "cell_type": "code",
   "execution_count": null,
   "metadata": {},
   "outputs": [],
   "source": [
    "machote_1 = filtered_machote.pivot_table(index=['name'], values=['genres', 'followers.total', 'popularity'])\n",
    "machote_1 = machote_1.reset_index()"
   ]
  },
  {
   "cell_type": "code",
   "execution_count": null,
   "metadata": {},
   "outputs": [],
   "source": [
    "machote_1"
   ]
  },
  {
   "cell_type": "code",
   "execution_count": null,
   "metadata": {},
   "outputs": [],
   "source": [
    "test_spty = [x for x in machote_1['name'] if x in spotify_artists]"
   ]
  },
  {
   "cell_type": "code",
   "execution_count": null,
   "metadata": {},
   "outputs": [],
   "source": [
    "removers = []\n",
    "for i in test_spty:\n",
    "    keeper = machote_1[machote_1['name'] == i].index\n",
    "    removers.append(keeper)\n"
   ]
  },
  {
   "cell_type": "code",
   "execution_count": null,
   "metadata": {},
   "outputs": [],
   "source": [
    "machote_1.set_index('name', inplace=True)"
   ]
  },
  {
   "cell_type": "code",
   "execution_count": null,
   "metadata": {},
   "outputs": [],
   "source": [
    "machite_3 = machote_1"
   ]
  },
  {
   "cell_type": "code",
   "execution_count": null,
   "metadata": {},
   "outputs": [],
   "source": [
    "machite_3 = machite_3.reset_index()"
   ]
  },
  {
   "cell_type": "code",
   "execution_count": null,
   "metadata": {},
   "outputs": [],
   "source": [
    "machite_3.to_csv('spotify_info.txt', index=False)"
   ]
  },
  {
   "cell_type": "code",
   "execution_count": null,
   "metadata": {},
   "outputs": [],
   "source": [
    "import seaborn as sns\n",
    "\n",
    "df_corr = machite_3[['followers.total', 'popularity']].corr()\n",
    "cmap = sns.diverging_palette(6, 255, as_cmap=True)\n",
    "sns.heatmap(df_corr, cmap=cmap,annot=True)"
   ]
  },
  {
   "cell_type": "code",
   "execution_count": null,
   "metadata": {},
   "outputs": [],
   "source": [
    "sns.scatterplot(data=machite_3, x='name', y='popularity', size='followers.total', hue='name', legend=False, x_jitter=50, sizes=(100,1000))\n",
    "\n",
    "plt.xticks(rotation = 90)\n",
    "\n",
    "fig.size(20,50)\n",
    "\n",
    "plt.show()"
   ]
  }
 ],
 "metadata": {
  "kernelspec": {
   "display_name": "Python 3",
   "language": "python",
   "name": "python3"
  },
  "language_info": {
   "codemirror_mode": {
    "name": "ipython",
    "version": 3
   },
   "file_extension": ".py",
   "mimetype": "text/x-python",
   "name": "python",
   "nbconvert_exporter": "python",
   "pygments_lexer": "ipython3",
   "version": "3.8.5"
  }
 },
 "nbformat": 4,
 "nbformat_minor": 4
}
